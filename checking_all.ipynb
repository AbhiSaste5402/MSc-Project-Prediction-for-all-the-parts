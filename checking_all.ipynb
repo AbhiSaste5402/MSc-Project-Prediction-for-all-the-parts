{
  "nbformat": 4,
  "nbformat_minor": 0,
  "metadata": {
    "colab": {
      "provenance": [],
      "collapsed_sections": [],
      "authorship_tag": "ABX9TyPSQOvO+IBng37XAR4RXDH3"
    },
    "kernelspec": {
      "name": "python3",
      "display_name": "Python 3"
    },
    "language_info": {
      "name": "python"
    }
  },
  "cells": [
    {
      "cell_type": "code",
      "source": [
        "from google.colab import drive\n",
        "drive.mount('/content/drive')"
      ],
      "metadata": {
        "colab": {
          "base_uri": "https://localhost:8080/"
        },
        "id": "RNk3s33tC3kf",
        "outputId": "f0792879-ecf8-4d0b-a2b7-6b592d00cd4a"
      },
      "execution_count": null,
      "outputs": [
        {
          "output_type": "stream",
          "name": "stdout",
          "text": [
            "Drive already mounted at /content/drive; to attempt to forcibly remount, call drive.mount(\"/content/drive\", force_remount=True).\n"
          ]
        }
      ]
    },
    {
      "cell_type": "markdown",
      "source": [
        "**Tuberculosis** **detection**"
      ],
      "metadata": {
        "id": "Erf_c9ZKEUm7"
      }
    },
    {
      "cell_type": "code",
      "execution_count": null,
      "metadata": {
        "id": "IQFrAaBCCjEA"
      },
      "outputs": [],
      "source": [
        "from keras.models import load_model\n",
        "from keras.preprocessing import image\n",
        "from keras.applications.vgg16 import preprocess_input\n",
        "import numpy as np\n"
      ]
    },
    {
      "cell_type": "code",
      "source": [
        "tb=load_model('/content/drive/MyDrive/tuberculosis.h5')"
      ],
      "metadata": {
        "id": "fYWW6aZ4fMQU"
      },
      "execution_count": null,
      "outputs": []
    },
    {
      "cell_type": "code",
      "source": [
        "img=image.load_img('/content/drive/MyDrive/tuber_images/Normal/Normal-1025.png',target_size=(224,224))"
      ],
      "metadata": {
        "id": "5g3e43K8fmHv"
      },
      "execution_count": null,
      "outputs": []
    },
    {
      "cell_type": "code",
      "source": [
        "x=image.img_to_array(img)\n",
        "x=np.expand_dims(x, axis=0)\n",
        "img_data=preprocess_input(x)\n",
        "classes=tb.predict(img_data)"
      ],
      "metadata": {
        "id": "LUQc665LfMaK"
      },
      "execution_count": null,
      "outputs": []
    },
    {
      "cell_type": "code",
      "source": [
        "result=int(classes[0][0])"
      ],
      "metadata": {
        "id": "_ADz--j8DA3D"
      },
      "execution_count": null,
      "outputs": []
    },
    {
      "cell_type": "code",
      "source": [
        "if result==1:\n",
        "    print(\"Its tuberculosis\")\n",
        "else:\n",
        "    print(\"healthy\")"
      ],
      "metadata": {
        "colab": {
          "base_uri": "https://localhost:8080/"
        },
        "id": "uMci4qp-fXmk",
        "outputId": "534c57cf-a040-464f-81cb-8993d7d76df3"
      },
      "execution_count": null,
      "outputs": [
        {
          "output_type": "stream",
          "name": "stdout",
          "text": [
            "healthy\n"
          ]
        }
      ]
    },
    {
      "cell_type": "markdown",
      "source": [
        "**Pneumonia** **Detection**"
      ],
      "metadata": {
        "id": "qIBhtiv-Ebki"
      }
    },
    {
      "cell_type": "code",
      "source": [
        "pneumonia=load_model('/content/drive/MyDrive/chest_xray.h5')"
      ],
      "metadata": {
        "id": "0bQpKBpLDA5a"
      },
      "execution_count": null,
      "outputs": []
    },
    {
      "cell_type": "code",
      "source": [
        "img=image.load_img('/content/drive/MyDrive/chest_xray/val/NORMAL/NORMAL2-IM-1437-0001.jpeg',target_size=(224,224))"
      ],
      "metadata": {
        "id": "nGeOUrPODqtu"
      },
      "execution_count": null,
      "outputs": []
    },
    {
      "cell_type": "code",
      "source": [
        "x=image.img_to_array(img)\n",
        "x=np.expand_dims(x, axis=0)\n",
        "img_data=preprocess_input(x)\n",
        "classes=pneumonia.predict(img_data)"
      ],
      "metadata": {
        "id": "L-49jb03Ckd3"
      },
      "execution_count": null,
      "outputs": []
    },
    {
      "cell_type": "code",
      "source": [
        "result=int(classes[0][0])"
      ],
      "metadata": {
        "id": "1tTJoiuRCkgn"
      },
      "execution_count": null,
      "outputs": []
    },
    {
      "cell_type": "code",
      "source": [
        "if result==0:\n",
        "    print(\"pneumo\")\n",
        "else:\n",
        "    print(\"healthy\")\n"
      ],
      "metadata": {
        "colab": {
          "base_uri": "https://localhost:8080/"
        },
        "id": "kEInunYCFWgJ",
        "outputId": "543b5c2c-67d4-48f9-9f38-fa70460f481c"
      },
      "execution_count": null,
      "outputs": [
        {
          "output_type": "stream",
          "name": "stdout",
          "text": [
            "healthy\n"
          ]
        }
      ]
    },
    {
      "cell_type": "markdown",
      "source": [
        "**Healthy** **and** **Infected** **Detection**"
      ],
      "metadata": {
        "id": "mts7tQSGKDY1"
      }
    },
    {
      "cell_type": "code",
      "source": [
        "pneumonia=load_model('/content/drive/MyDrive/Mixdata.h5')"
      ],
      "metadata": {
        "id": "1up5uz6HKCig"
      },
      "execution_count": null,
      "outputs": []
    },
    {
      "cell_type": "code",
      "source": [
        "img=image.load_img('/content/drive/MyDrive/customxray/Infected/Tuberculosis-104.png',target_size=(224,224))"
      ],
      "metadata": {
        "id": "CMO4tAVjKCf-"
      },
      "execution_count": null,
      "outputs": []
    },
    {
      "cell_type": "code",
      "source": [
        "x=image.img_to_array(img)\n",
        "x=np.expand_dims(x, axis=0)\n",
        "img_data=preprocess_input(x)\n",
        "classes=pneumonia.predict(img_data)"
      ],
      "metadata": {
        "id": "ECNiKAXTKCk-"
      },
      "execution_count": null,
      "outputs": []
    },
    {
      "cell_type": "code",
      "source": [
        "result=int(classes[0][0])"
      ],
      "metadata": {
        "id": "vq-1ytirKCnl"
      },
      "execution_count": null,
      "outputs": []
    },
    {
      "cell_type": "code",
      "source": [
        "if result==1:\n",
        "    print(\"Infected\")\n",
        "else:\n",
        "    print(\"healthy\")\n"
      ],
      "metadata": {
        "colab": {
          "base_uri": "https://localhost:8080/"
        },
        "id": "2OlVBPszKQ23",
        "outputId": "89b2a64a-a5a3-42e2-f2d6-f215f5cda7d9"
      },
      "execution_count": null,
      "outputs": [
        {
          "output_type": "stream",
          "name": "stdout",
          "text": [
            "Infected\n"
          ]
        }
      ]
    },
    {
      "cell_type": "markdown",
      "source": [
        "**Healthy**, **Pneumonia** **or** **Tuberculosis** **detection**"
      ],
      "metadata": {
        "id": "xP2NpB1jEzTs"
      }
    },
    {
      "cell_type": "code",
      "source": [
        "model=load_model('/content/drive/MyDrive/3classes.h5')"
      ],
      "metadata": {
        "id": "-rpxTadnCkpf"
      },
      "execution_count": null,
      "outputs": []
    },
    {
      "cell_type": "code",
      "source": [
        "img=image.load_img('/content/drive/MyDrive/cleandata/val/NORMAL/NORMAL2-IM-1431-0001.jpeg',target_size=(224,224))"
      ],
      "metadata": {
        "id": "uP3wnxaTCkmR"
      },
      "execution_count": null,
      "outputs": []
    },
    {
      "cell_type": "code",
      "source": [
        "x=image.img_to_array(img)\n",
        "x=np.expand_dims(x, axis=0)\n",
        "img_data=preprocess_input(x)\n",
        "classes=pneumonia.predict(img_data)"
      ],
      "metadata": {
        "id": "-1Ytbzl9Cksn"
      },
      "execution_count": null,
      "outputs": []
    },
    {
      "cell_type": "code",
      "source": [
        "print(model.predict(x))"
      ],
      "metadata": {
        "colab": {
          "base_uri": "https://localhost:8080/"
        },
        "id": "CA23FV46F0SN",
        "outputId": "0603e533-d701-4742-db70-c47aaf9f54d8"
      },
      "execution_count": null,
      "outputs": [
        {
          "output_type": "stream",
          "name": "stderr",
          "text": [
            "WARNING:tensorflow:5 out of the last 7 calls to <function Model.make_predict_function.<locals>.predict_function at 0x7f2909fb9830> triggered tf.function retracing. Tracing is expensive and the excessive number of tracings could be due to (1) creating @tf.function repeatedly in a loop, (2) passing tensors with different shapes, (3) passing Python objects instead of tensors. For (1), please define your @tf.function outside of the loop. For (2), @tf.function has experimental_relax_shapes=True option that relaxes argument shapes that can avoid unnecessary retracing. For (3), please refer to https://www.tensorflow.org/guide/function#controlling_retracing and https://www.tensorflow.org/api_docs/python/tf/function for  more details.\n"
          ]
        },
        {
          "output_type": "stream",
          "name": "stdout",
          "text": [
            "[[0.7338928  0.2652973  0.00080995]]\n"
          ]
        }
      ]
    }
  ]
}